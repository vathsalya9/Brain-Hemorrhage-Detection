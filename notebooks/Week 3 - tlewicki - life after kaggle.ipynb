{
  "nbformat": 4,
  "nbformat_minor": 0,
  "metadata": {
    "colab": {
      "name": "Week03_life_after_kaggle",
      "provenance": [],
      "collapsed_sections": [],
      "include_colab_link": true
    },
    "kernelspec": {
      "name": "python3",
      "display_name": "Python 3"
    },
    "accelerator": "GPU"
  },
  "cells": [
    {
      "cell_type": "markdown",
      "metadata": {
        "id": "view-in-github",
        "colab_type": "text"
      },
      "source": [
        "<a href=\"https://colab.research.google.com/github/tomek-l/brain/blob/master/Week03_life_after_kaggle.ipynb\" target=\"_parent\"><img src=\"https://colab.research.google.com/assets/colab-badge.svg\" alt=\"Open In Colab\"/></a>"
      ]
    },
    {
      "cell_type": "markdown",
      "metadata": {
        "id": "-zm3M0YvT04l",
        "colab_type": "text"
      },
      "source": [
        "Code for moving the files from s3 to google drive + unzipping (after kaggle took away stage 1 data)"
      ]
    },
    {
      "cell_type": "code",
      "metadata": {
        "id": "fNc-3zDJkpZN",
        "colab_type": "code",
        "outputId": "333b3771-033c-4e87-a4d7-3277a9676dce",
        "colab": {
          "base_uri": "https://localhost:8080/",
          "height": 208
        }
      },
      "source": [
        "!wget https://brain-dataset.s3-us-west-1.amazonaws.com/rsna-intracranial-hemorrhage-detection.zip"
      ],
      "execution_count": 5,
      "outputs": [
        {
          "output_type": "stream",
          "text": [
            "--2019-11-07 18:33:51--  https://brain-dataset.s3-us-west-1.amazonaws.com/rsna-intracranial-hemorrhage-detection.zip\n",
            "Resolving brain-dataset.s3-us-west-1.amazonaws.com (brain-dataset.s3-us-west-1.amazonaws.com)... 52.219.116.153\n",
            "Connecting to brain-dataset.s3-us-west-1.amazonaws.com (brain-dataset.s3-us-west-1.amazonaws.com)|52.219.116.153|:443... connected.\n",
            "HTTP request sent, awaiting response... 200 OK\n",
            "Length: 27084890193 (25G) [application/zip]\n",
            "Saving to: ‘rsna-intracranial-hemorrhage-detection.zip’\n",
            "\n",
            "rsna-intracranial-h 100%[===================>]  25.22G  21.2MB/s    in 20m 33s \n",
            "\n",
            "2019-11-07 18:54:25 (20.9 MB/s) - ‘rsna-intracranial-hemorrhage-detection.zip’ saved [27084890193/27084890193]\n",
            "\n"
          ],
          "name": "stdout"
        }
      ]
    },
    {
      "cell_type": "code",
      "metadata": {
        "id": "bpY2cJg4siyL",
        "colab_type": "code",
        "colab": {}
      },
      "source": [
        "from google.colab import drive"
      ],
      "execution_count": 0,
      "outputs": []
    },
    {
      "cell_type": "code",
      "metadata": {
        "id": "Ck0jHaDcsrd3",
        "colab_type": "code",
        "outputId": "ee4ad5a8-67f9-412d-b8b1-e6e890e70b41",
        "colab": {
          "base_uri": "https://localhost:8080/",
          "height": 34
        }
      },
      "source": [
        "drive.mount('~/gdrive/')"
      ],
      "execution_count": 8,
      "outputs": [
        {
          "output_type": "stream",
          "text": [
            "Drive already mounted at /root/gdrive/; to attempt to forcibly remount, call drive.mount(\"/root/gdrive/\", force_remount=True).\n"
          ],
          "name": "stdout"
        }
      ]
    },
    {
      "cell_type": "code",
      "metadata": {
        "colab_type": "code",
        "id": "yKBqFJBXPI71",
        "colab": {}
      },
      "source": [
        "!cp rsna-intracranial-hemorrhage-detection.zip  ~/gdrive/'My Drive'/data/rsna/"
      ],
      "execution_count": 0,
      "outputs": []
    },
    {
      "cell_type": "code",
      "metadata": {
        "id": "Xdk9nSr6s1k_",
        "colab_type": "code",
        "colab": {}
      },
      "source": [
        "!mkdir ~/gdrive/'My Drive'/data/rsna/unzipped "
      ],
      "execution_count": 0,
      "outputs": []
    },
    {
      "cell_type": "code",
      "metadata": {
        "id": "w93MMR-ERSep",
        "colab_type": "code",
        "colab": {
          "base_uri": "https://localhost:8080/",
          "height": 34
        },
        "outputId": "a9e151c5-65be-4b40-f4f4-97b13b07ce97"
      },
      "source": [
        "!unzip rsna-intracranial-hemorrhage-detection.zip -d ~/data | wc"
      ],
      "execution_count": 16,
      "outputs": [
        {
          "output_type": "stream",
          "text": [
            " 121235  242470 7637769\n"
          ],
          "name": "stdout"
        }
      ]
    },
    {
      "cell_type": "code",
      "metadata": {
        "id": "uO1YEkqIUl7z",
        "colab_type": "code",
        "colab": {}
      },
      "source": [
        "!cp -r ~/data/* ~/gdrive/'My Drive'/data/rsna/unzipped"
      ],
      "execution_count": 0,
      "outputs": []
    },
    {
      "cell_type": "code",
      "metadata": {
        "id": "GKIWzGDupQS3",
        "colab_type": "code",
        "colab": {
          "base_uri": "https://localhost:8080/",
          "height": 34
        },
        "outputId": "4026557d-f893-40d8-a0a8-1309f1d35e98"
      },
      "source": [
        "!ls ~/gdrive/'My Drive'/data/rsna/unzipped4/stage_2_test_images | wc"
      ],
      "execution_count": 38,
      "outputs": [
        {
          "output_type": "stream",
          "text": [
            " 121232  121232 2060944\n"
          ],
          "name": "stdout"
        }
      ]
    }
  ]
}