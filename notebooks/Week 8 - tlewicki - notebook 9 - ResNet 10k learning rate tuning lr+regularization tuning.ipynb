{
 "cells": [
  {
   "cell_type": "code",
   "execution_count": 1,
   "metadata": {
    "_cell_guid": "b1076dfc-b9ad-4769-8c92-a6c4dae69d19",
    "_uuid": "8f2839f25d086af736a60e9eeb907d3b93b6e0e5"
   },
   "outputs": [
    {
     "name": "stdout",
     "output_type": "stream",
     "text": [
      "stage_2_sample_submission.csv  stage_2_test  stage_2_train  stage_2_train.csv\r\n"
     ]
    }
   ],
   "source": [
    "import os\n",
    "import time\n",
    "import pytz\n",
    "import pandas as pd\n",
    "import numpy as np\n",
    "from datetime import datetime\n",
    "\n",
    "\n",
    "DATA_DIR = '/data/cmpe257-02-fa2019/team-1-meerkats/rsna-intracranial-hemorrhage-detection/'\n",
    "TIMESTAMP_BEGIN = str(datetime.now(pytz.timezone('America/Los_Angeles'))).replace(\" \", \"-\")\n",
    "MODEL_NAME = TIMESTAMP_BEGIN + '-ResNet50-conv+head-10k'\n",
    "WEIGHTS_DIR = '/data/cmpe257-02-fa2019/team-1-meerkats/weights/' + MODEL_NAME + '/'\n",
    "os.mkdir(WEIGHTS_DIR)\n",
    "\n",
    "!ls $DATA_DIR\n",
    "INPUT_SHAPE = (224, 224, 3)"
   ]
  },
  {
   "cell_type": "code",
   "execution_count": 2,
   "metadata": {
    "_cell_guid": "79c7e3d0-c299-4dcb-8224-4455121ee9b0",
    "_uuid": "d629ff2d2480ee46fbb7e2d37f6b5fab8052498a"
   },
   "outputs": [],
   "source": [
    "# dcm processing\n",
    "\n",
    "def correct_dcm(dcm):\n",
    "    x = dcm.pixel_array + 1000\n",
    "    px_mode = 4096\n",
    "    x[x>=px_mode] = x[x>=px_mode] - px_mode\n",
    "    dcm.PixelData = x.tobytes()\n",
    "    dcm.RescaleIntercept = -1000\n",
    "\n",
    "def window_image(dcm, window_center, window_width):\n",
    "    \n",
    "    #handle the 12 bit values\n",
    "    if (dcm.BitsStored == 12) and (dcm.PixelRepresentation == 0) and (int(dcm.RescaleIntercept) > -100):\n",
    "        correct_dcm(dcm)\n",
    "    \n",
    "    img = dcm.pixel_array * dcm.RescaleSlope + dcm.RescaleIntercept\n",
    "    img_min = window_center - window_width // 2\n",
    "    img_max = window_center + window_width // 2\n",
    "    img = np.clip(img, img_min, img_max)\n",
    "\n",
    "    return img\n",
    "\n",
    "def window_and_scale_brain_subdural_soft(dcm):\n",
    "    \n",
    "    #window images\n",
    "    brain_img = window_image(dcm, 40, 80)\n",
    "    subdural_img = window_image(dcm, 80, 200)\n",
    "    #soft_img = window_image(dcm, 40, 380)\n",
    "    bone_img = window_image(dcm, 600, 2800)\n",
    "    \n",
    "    #scale images (0-1)\n",
    "    brain_img = (brain_img - 0) / 80\n",
    "    subdural_img = (subdural_img + 20) / 200\n",
    "    bone_img = (bone_img + 800) / 2800\n",
    "    \n",
    "    # combine channels\n",
    "    return np.array([brain_img, subdural_img, bone_img]).transpose(1,2,0)\n",
    "\n",
    "def old_window_and_scale(dcm):\n",
    "    brain_img = window_image(dcm, 40, 80)\n",
    "    subdural_img = window_image(dcm, 80, 200)\n",
    "    soft_img = window_image(dcm, 40, 380)\n",
    "    \n",
    "    brain_img = (brain_img - 0) / 80\n",
    "    subdural_img = (subdural_img - (-20)) / 200\n",
    "    soft_img = (soft_img - (-150)) / 380\n",
    "    bsb_img = np.array([brain_img, subdural_img, soft_img]).transpose(1,2,0)\n",
    "\n",
    "    return bsb_img\n",
    "\n",
    "\n",
    "def read_trainset(filename=DATA_DIR+\"stage_2_train.csv\"):\n",
    "    df = pd.read_csv(filename)\n",
    "    df[\"Image\"] = df[\"ID\"].str.slice(stop=12)\n",
    "    df[\"Diagnosis\"] = df[\"ID\"].str.slice(start=13)\n",
    "    \n",
    "    duplicates_to_remove = [\n",
    "        56346,56347,56348,56349,\n",
    "        56350,56351,1171830,1171831,\n",
    "        1171832,1171833,1171834,1171835,\n",
    "        3705312,3705313,3705314,3705315,\n",
    "        3705316,3705317,3842478,3842479,\n",
    "        3842480,3842481,3842482,3842483\n",
    "    ]\n",
    "    \n",
    "    df = df.drop(index=duplicates_to_remove)\n",
    "    df = df.reset_index(drop=True)\n",
    "    \n",
    "    df = df.loc[:, [\"Label\", \"Diagnosis\", \"Image\"]]\n",
    "    df = df.set_index(['Image', 'Diagnosis']).unstack(level=-1)\n",
    "    \n",
    "    return df"
   ]
  },
  {
   "cell_type": "code",
   "execution_count": 3,
   "metadata": {},
   "outputs": [
    {
     "name": "stderr",
     "output_type": "stream",
     "text": [
      "Using TensorFlow backend.\n"
     ]
    }
   ],
   "source": [
    "import keras\n",
    "import cv2\n",
    "from math import ceil\n",
    "import numpy as np\n",
    "import pydicom\n",
    "\n",
    "np.random.seed(2557)\n",
    "\n",
    "def _read(path, desired_size):\n",
    "    \"\"\"Will be used in DataGenerator\"\"\"\n",
    "    \n",
    "    dcm = pydicom.dcmread(path)\n",
    "    \n",
    "    try:\n",
    "        img = window_and_scale_brain_subdural_soft(dcm)\n",
    "        img = cv2.resize(img, desired_size[:2], interpolation=cv2.INTER_LINEAR)\n",
    "        \n",
    "    # Some dcms seem to be corrupted\n",
    "    except ValueError:\n",
    "        print('Error while parsing {}'.format(path))\n",
    "        img = np.ones(desired_size)\n",
    "    \n",
    "    return img\n",
    "\n",
    "class DataGenerator(keras.utils.Sequence):\n",
    "\n",
    "    def __init__(self, img_dir, image_IDs, labels_df, batch_size, img_size):\n",
    "\n",
    "        self.image_IDs = image_IDs\n",
    "        self.labels_df = labels_df\n",
    "        self.batch_size = batch_size\n",
    "        self.img_size = img_size\n",
    "        self.img_dir = img_dir\n",
    "\n",
    "    def __len__(self):\n",
    "        return int(ceil(len(self.image_IDs) / self.batch_size))\n",
    "\n",
    "    def __getitem__(self, index):\n",
    "        \n",
    "        batch_ids = self.image_IDs[index*self.batch_size:(index+1)*self.batch_size]\n",
    "        \n",
    "        X = np.empty((self.batch_size, *self.img_size))\n",
    "        Y = np.empty((self.batch_size, 6))\n",
    "        \n",
    "        for i, ID in enumerate(batch_ids):\n",
    "            X[i,] = _read(self.img_dir+ID+\".dcm\", self.img_size)\n",
    "            Y[i,] = self.labels_df.loc[ID].values\n",
    "        \n",
    "        return X, Y"
   ]
  },
  {
   "cell_type": "code",
   "execution_count": 4,
   "metadata": {},
   "outputs": [],
   "source": [
    "from sklearn.model_selection import ShuffleSplit \n",
    "\n",
    "train_df = read_trainset()\n",
    "\n",
    "# k-fold splitting\n",
    "ss = ShuffleSplit(n_splits=10, test_size=0.1, random_state=257).split(train_df.index)\n",
    "# get indeces for one split\n",
    "train_idx, valid_idx = next(ss)\n",
    "train_df_kfold = train_df.iloc[train_idx]\n",
    "valid_df_kfold = train_df.iloc[valid_idx]\n",
    "\n",
    "\n",
    "traingen = DataGenerator(img_dir=DATA_DIR+'stage_2_train/',\n",
    "                         image_IDs=train_df_kfold.index[:10000], #MAGIC\n",
    "                         labels_df=train_df_kfold[:10000], #MAGIC\n",
    "                         batch_size=16,\n",
    "                         img_size=INPUT_SHAPE)\n",
    "\n",
    "validgen = DataGenerator(img_dir=DATA_DIR+'stage_2_train/',\n",
    "                         image_IDs=valid_df_kfold.index[:1000], #MAGIC\n",
    "                         labels_df=valid_df_kfold[:1000], #MAGIC\n",
    "                         batch_size=16,\n",
    "                         img_size=INPUT_SHAPE)"
   ]
  },
  {
   "cell_type": "code",
   "execution_count": 5,
   "metadata": {},
   "outputs": [],
   "source": [
    "# custom loss function\n",
    "from keras import backend as K\n",
    "\n",
    "def weighted_log_loss(y_true, y_pred):\n",
    "    \"\"\"\n",
    "    Can be used as the loss function in model.compile()\n",
    "    ---------------------------------------------------\n",
    "    \"\"\"\n",
    "    \n",
    "    class_weights = np.array([1., 1., 1., 1., 1., 1.])\n",
    "    \n",
    "    eps = K.epsilon()\n",
    "    \n",
    "    y_pred = K.clip(y_pred, eps, 1.0-eps)\n",
    "\n",
    "    out = -(         y_true  * K.log(      y_pred) * class_weights\n",
    "            + (1.0 - y_true) * K.log(1.0 - y_pred) * class_weights)\n",
    "    \n",
    "    return K.mean(out, axis=-1)\n",
    "\n",
    "# custom performance metric\n",
    "def correct_diagnoses(y_true, y_pred):\n",
    "    THRESHOLD = 0.5\n",
    "    p_thr = K.greater(y_pred, THRESHOLD)\n",
    "    y_true = K.cast(y_true, dtype='bool')\n",
    "    \n",
    "    equals_t = K.equal(p_thr, y_true)\n",
    "    correct_rows = K.all(equals_t, axis=1)\n",
    "    correct_rows_int = K.cast(correct_rows, dtype='int32')\n",
    "    \n",
    "    return K.sum(correct_rows_int)/K.shape(correct_rows_int)[0]\n",
    "\n",
    "def correct_positive_diagnoses(y_true, y_pred):\n",
    "    THRESHOLD = 0.5\n",
    "    p_thr = K.greater(y_pred, THRESHOLD)\n",
    "    y_true = K.cast(y_true, dtype='bool')\n",
    "    \n",
    "    pos_mask = K.any(y_true, axis=1) #patients with positive diagnoses\n",
    "    p_thr = p_thr[pos_mask]\n",
    "    y_true = y_true[pos_mask]\n",
    "    \n",
    "    equals_t = K.equal(p_thr, y_true)\n",
    "    correct_rows = K.all(equals_t, axis=1)\n",
    "    correct_rows_float = K.cast(correct_rows, dtype='float32')\n",
    "    \n",
    "    return K.sum(correct_rows_float)/(K.cast(K.shape(correct_rows_float)[0], dtype='float32')+K.epsilon())\n",
    "\n",
    "def np_cpd(y_true, pred, thr=0.5): #numpy implementation of correct positive diagnoses\n",
    "    p_thr = pred > thr\n",
    "\n",
    "    pos_mask = np.any(y_true, axis=1)\n",
    "\n",
    "    p_thr = p_thr[pos_mask]\n",
    "    y_true = y_true[pos_mask]\n",
    "\n",
    "    p_correct = np.all(p_thr[:len(y_true)] == y_true[:len(p_thr)], axis=1)\n",
    "\n",
    "    return np.sum(p_correct)/(len(p_thr)+1e-15)"
   ]
  },
  {
   "cell_type": "code",
   "execution_count": 6,
   "metadata": {},
   "outputs": [],
   "source": [
    "mc = keras.callbacks.ModelCheckpoint(filepath=WEIGHTS_DIR+'epoch={epoch:02d}-valid-loss={val_loss:.2f}.hdf5', monitor='loss', verbose=True, save_best_only=False, save_weights_only=False)\n",
    "tb = keras.callbacks.TensorBoard(log_dir='./Graph', histogram_freq=0,  \n",
    "          write_graph=True, write_images=True)"
   ]
  },
  {
   "cell_type": "code",
   "execution_count": null,
   "metadata": {
    "scrolled": false
   },
   "outputs": [
    {
     "name": "stdout",
     "output_type": "stream",
     "text": [
      "trying lr=2.6556269224419018e-05 reg=0.003468055893551286\n",
      "WARNING:tensorflow:From /home/013855803/anaconda3/envs/brainenv/lib/python3.7/site-packages/keras/backend/tensorflow_backend.py:74: The name tf.get_default_graph is deprecated. Please use tf.compat.v1.get_default_graph instead.\n",
      "\n",
      "WARNING:tensorflow:From /home/013855803/anaconda3/envs/brainenv/lib/python3.7/site-packages/keras/backend/tensorflow_backend.py:517: The name tf.placeholder is deprecated. Please use tf.compat.v1.placeholder instead.\n",
      "\n",
      "WARNING:tensorflow:From /home/013855803/anaconda3/envs/brainenv/lib/python3.7/site-packages/keras/backend/tensorflow_backend.py:4185: The name tf.truncated_normal is deprecated. Please use tf.random.truncated_normal instead.\n",
      "\n",
      "WARNING:tensorflow:From /home/013855803/anaconda3/envs/brainenv/lib/python3.7/site-packages/keras/backend/tensorflow_backend.py:174: The name tf.get_default_session is deprecated. Please use tf.compat.v1.get_default_session instead.\n",
      "\n",
      "WARNING:tensorflow:From /home/013855803/anaconda3/envs/brainenv/lib/python3.7/site-packages/keras/backend/tensorflow_backend.py:181: The name tf.ConfigProto is deprecated. Please use tf.compat.v1.ConfigProto instead.\n",
      "\n",
      "WARNING:tensorflow:From /home/013855803/anaconda3/envs/brainenv/lib/python3.7/site-packages/keras/backend/tensorflow_backend.py:186: The name tf.Session is deprecated. Please use tf.compat.v1.Session instead.\n",
      "\n",
      "WARNING:tensorflow:From /home/013855803/anaconda3/envs/brainenv/lib/python3.7/site-packages/keras/backend/tensorflow_backend.py:190: The name tf.global_variables is deprecated. Please use tf.compat.v1.global_variables instead.\n",
      "\n",
      "WARNING:tensorflow:From /home/013855803/anaconda3/envs/brainenv/lib/python3.7/site-packages/keras/backend/tensorflow_backend.py:199: The name tf.is_variable_initialized is deprecated. Please use tf.compat.v1.is_variable_initialized instead.\n",
      "\n",
      "WARNING:tensorflow:From /home/013855803/anaconda3/envs/brainenv/lib/python3.7/site-packages/keras/backend/tensorflow_backend.py:206: The name tf.variables_initializer is deprecated. Please use tf.compat.v1.variables_initializer instead.\n",
      "\n",
      "WARNING:tensorflow:From /home/013855803/anaconda3/envs/brainenv/lib/python3.7/site-packages/keras/backend/tensorflow_backend.py:1834: The name tf.nn.fused_batch_norm is deprecated. Please use tf.compat.v1.nn.fused_batch_norm instead.\n",
      "\n",
      "WARNING:tensorflow:From /home/013855803/anaconda3/envs/brainenv/lib/python3.7/site-packages/keras/backend/tensorflow_backend.py:133: The name tf.placeholder_with_default is deprecated. Please use tf.compat.v1.placeholder_with_default instead.\n",
      "\n",
      "WARNING:tensorflow:From /home/013855803/anaconda3/envs/brainenv/lib/python3.7/site-packages/keras/backend/tensorflow_backend.py:3976: The name tf.nn.max_pool is deprecated. Please use tf.nn.max_pool2d instead.\n",
      "\n"
     ]
    },
    {
     "name": "stderr",
     "output_type": "stream",
     "text": [
      "/home/013855803/anaconda3/envs/brainenv/lib/python3.7/site-packages/keras_applications/resnet50.py:265: UserWarning: The output shape of `ResNet50(include_top=False)` has been changed since Keras 2.2.0.\n",
      "  warnings.warn('The output shape of `ResNet50(include_top=False)` '\n"
     ]
    },
    {
     "name": "stdout",
     "output_type": "stream",
     "text": [
      "WARNING:tensorflow:From /home/013855803/anaconda3/envs/brainenv/lib/python3.7/site-packages/keras/backend/tensorflow_backend.py:4138: The name tf.random_uniform is deprecated. Please use tf.random.uniform instead.\n",
      "\n",
      "WARNING:tensorflow:From /home/013855803/anaconda3/envs/brainenv/lib/python3.7/site-packages/keras/optimizers.py:790: The name tf.train.Optimizer is deprecated. Please use tf.compat.v1.train.Optimizer instead.\n",
      "\n",
      "WARNING:tensorflow:From /home/013855803/anaconda3/envs/brainenv/lib/python3.7/site-packages/keras/backend/tensorflow_backend.py:3376: The name tf.log is deprecated. Please use tf.math.log instead.\n",
      "\n",
      "WARNING:tensorflow:From /home/013855803/anaconda3/envs/brainenv/lib/python3.7/site-packages/tensorflow_core/python/ops/nn_impl.py:183: where (from tensorflow.python.ops.array_ops) is deprecated and will be removed in a future version.\n",
      "Instructions for updating:\n",
      "Use tf.where in 2.0, which has the same broadcast rule as np.where\n",
      "WARNING:tensorflow:From /home/013855803/anaconda3/envs/brainenv/lib/python3.7/site-packages/keras/backend/tensorflow_backend.py:986: The name tf.assign_add is deprecated. Please use tf.compat.v1.assign_add instead.\n",
      "\n",
      "WARNING:tensorflow:From /home/013855803/anaconda3/envs/brainenv/lib/python3.7/site-packages/keras/backend/tensorflow_backend.py:973: The name tf.assign is deprecated. Please use tf.compat.v1.assign instead.\n",
      "\n",
      "Epoch 1/5\n",
      "625/625 [==============================] - 243s 389ms/step - loss: 1.2824 - correct_positive_diagnoses: 0.0367 - val_loss: 0.9081 - val_correct_positive_diagnoses: 0.0437\n",
      "Epoch 2/5\n",
      "625/625 [==============================] - 208s 332ms/step - loss: 0.6761 - correct_positive_diagnoses: 0.2874 - val_loss: 0.6053 - val_correct_positive_diagnoses: 0.1399\n",
      "Epoch 3/5\n",
      "625/625 [==============================] - 209s 334ms/step - loss: 0.4114 - correct_positive_diagnoses: 0.6077 - val_loss: 0.4741 - val_correct_positive_diagnoses: 0.1373\n",
      "Epoch 4/5\n",
      "Epoch 3/5\n",
      "625/625 [==============================] - 200s 320ms/step - loss: 0.2709 - correct_positive_diagnoses: 0.7787 - val_loss: 0.3864 - val_correct_positive_diagnoses: 0.1228\n",
      "Epoch 5/5\n",
      "625/625 [==============================] - 207s 332ms/step - loss: 0.1885 - correct_positive_diagnoses: 0.7945 - val_loss: 0.3389 - val_correct_positive_diagnoses: 0.1566\n",
      "trying lr=3.8975184326480944e-05 reg=0.009612982384571622\n"
     ]
    },
    {
     "name": "stderr",
     "output_type": "stream",
     "text": [
      "/home/013855803/anaconda3/envs/brainenv/lib/python3.7/site-packages/keras_applications/resnet50.py:265: UserWarning: The output shape of `ResNet50(include_top=False)` has been changed since Keras 2.2.0.\n",
      "  warnings.warn('The output shape of `ResNet50(include_top=False)` '\n"
     ]
    },
    {
     "name": "stdout",
     "output_type": "stream",
     "text": [
      "Epoch 1/5\n",
      "624/625 [============================>.] - ETA: 0s - loss: 2.1288 - correct_positive_diagnoses: 0.0346\n",
      "625/625 [==============================] - 218s 348ms/step - loss: 2.1268 - correct_positive_diagnoses: 0.0346 - val_loss: 0.9684 - val_correct_positive_diagnoses: 0.0542\n",
      "Epoch 2/5\n",
      "\n",
      "625/625 [==============================] - 205s 327ms/step - loss: 0.6115 - correct_positive_diagnoses: 0.2529 - val_loss: 0.4587 - val_correct_positive_diagnoses: 0.1151\n",
      "Epoch 2/5\n",
      "Epoch 3/5\n",
      "625/625 [==============================] - 204s 327ms/step - loss: 0.2859 - correct_positive_diagnoses: 0.4821 - val_loss: 0.3314 - val_correct_positive_diagnoses: 0.1706\n",
      "Epoch 4/5\n",
      "Epoch 3/5\n",
      "625/625 [==============================] - 205s 328ms/step - loss: 0.1679 - correct_positive_diagnoses: 0.6228 - val_loss: 0.3114 - val_correct_positive_diagnoses: 0.1526\n",
      "Epoch 5/5\n",
      "625/625 [==============================] - 205s 328ms/step - loss: 0.1163 - correct_positive_diagnoses: 0.6967 - val_loss: 0.2808 - val_correct_positive_diagnoses: 0.1664\n",
      "trying lr=1.103252237464268e-05 reg=0.006091830560120812\n"
     ]
    },
    {
     "name": "stderr",
     "output_type": "stream",
     "text": [
      "/home/013855803/anaconda3/envs/brainenv/lib/python3.7/site-packages/keras_applications/resnet50.py:265: UserWarning: The output shape of `ResNet50(include_top=False)` has been changed since Keras 2.2.0.\n",
      "  warnings.warn('The output shape of `ResNet50(include_top=False)` '\n"
     ]
    },
    {
     "name": "stdout",
     "output_type": "stream",
     "text": [
      "Epoch 1/5\n",
      "624/625 [============================>.] - ETA: 0s - loss: 2.5915 - correct_positive_diagnoses: 0.0182\n",
      "625/625 [==============================] - 226s 362ms/step - loss: 2.5904 - correct_positive_diagnoses: 0.0182 - val_loss: 2.0142 - val_correct_positive_diagnoses: 0.0230\n",
      "Epoch 2/5\n",
      "\n",
      "625/625 [==============================] - 207s 331ms/step - loss: 1.6359 - correct_positive_diagnoses: 0.3517 - val_loss: 1.4559 - val_correct_positive_diagnoses: 0.0463\n",
      "Epoch 3/5\n",
      "625/625 [==============================] - 204s 327ms/step - loss: 1.1421 - correct_positive_diagnoses: 0.7763 - val_loss: 1.1117 - val_correct_positive_diagnoses: 0.0892\n",
      "Epoch 4/5\n",
      "624/625 [============================>.] - ETA: 0s - loss: 0.8260 - correct_positive_diagnoses: 0.88Epoch 4/5\n",
      "625/625 [==============================] - 207s 331ms/step - loss: 0.8257 - correct_positive_diagnoses: 0.8815 - val_loss: 0.8764 - val_correct_positive_diagnoses: 0.0984\n",
      "Epoch 5/5\n",
      "625/625 [==============================] - 205s 328ms/step - loss: 0.5923 - correct_positive_diagnoses: 0.8955 - val_loss: 0.6698 - val_correct_positive_diagnoses: 0.1175\n",
      "trying lr=5.29785275723451e-06 reg=3.829283068195084e-05\n"
     ]
    },
    {
     "name": "stderr",
     "output_type": "stream",
     "text": [
      "/home/013855803/anaconda3/envs/brainenv/lib/python3.7/site-packages/keras_applications/resnet50.py:265: UserWarning: The output shape of `ResNet50(include_top=False)` has been changed since Keras 2.2.0.\n",
      "  warnings.warn('The output shape of `ResNet50(include_top=False)` '\n"
     ]
    },
    {
     "name": "stdout",
     "output_type": "stream",
     "text": [
      "Epoch 1/5\n",
      "624/625 [============================>.] - ETA: 0s - loss: 0.1997 - correct_positive_diagnoses: 0.0149\n",
      "\n",
      "625/625 [==============================] - 231s 369ms/step - loss: 0.1996 - correct_positive_diagnoses: 0.0149 - val_loss: 0.1617 - val_correct_positive_diagnoses: 0.0331\n",
      "Epoch 2/5\n",
      "625/625 [==============================] - 211s 337ms/step - loss: 0.0883 - correct_positive_diagnoses: 0.3362 - val_loss: 0.1663 - val_correct_positive_diagnoses: 0.0627\n",
      "Epoch 3/5\n",
      "625/625 [==============================] - 210s 336ms/step - loss: 0.0399 - correct_positive_diagnoses: 0.7900 - val_loss: 0.1746 - val_correct_positive_diagnoses: 0.0429\n",
      "Epoch 4/5\n",
      "Epoch 3/5\n",
      "625/625 [==============================] - 208s 332ms/step - loss: 0.0251 - correct_positive_diagnoses: 0.8970 - val_loss: 0.1913 - val_correct_positive_diagnoses: 0.0402\n",
      "Epoch 5/5\n",
      "625/625 [==============================] - 205s 327ms/step - loss: 0.0212 - correct_positive_diagnoses: 0.8992 - val_loss: 0.2042 - val_correct_positive_diagnoses: 0.0746\n",
      "trying lr=2.4891962558608956e-05 reg=0.0011962824347263694\n"
     ]
    },
    {
     "name": "stderr",
     "output_type": "stream",
     "text": [
      "/home/013855803/anaconda3/envs/brainenv/lib/python3.7/site-packages/keras_applications/resnet50.py:265: UserWarning: The output shape of `ResNet50(include_top=False)` has been changed since Keras 2.2.0.\n",
      "  warnings.warn('The output shape of `ResNet50(include_top=False)` '\n"
     ]
    },
    {
     "name": "stdout",
     "output_type": "stream",
     "text": [
      "Epoch 1/5\n",
      "624/625 [============================>.] - ETA: 0s - loss: 0.6132 - correct_positive_diagnoses: 0.0377\n",
      "625/625 [==============================] - 234s 375ms/step - loss: 0.6130 - correct_positive_diagnoses: 0.0376 - val_loss: 0.4948 - val_correct_positive_diagnoses: 0.0799\n",
      "Epoch 2/5\n",
      "\n",
      "625/625 [==============================] - 205s 328ms/step - loss: 0.3842 - correct_positive_diagnoses: 0.3285 - val_loss: 0.4379 - val_correct_positive_diagnoses: 0.0706\n",
      "Epoch 3/5\n",
      "625/625 [==============================] - 208s 332ms/step - loss: 0.2653 - correct_positive_diagnoses: 0.7072 - val_loss: 0.3767 - val_correct_positive_diagnoses: 0.1320\n",
      "Epoch 4/5\n",
      "Epoch 3/5\n",
      "625/625 [==============================] - 208s 333ms/step - loss: 0.1990 - correct_positive_diagnoses: 0.8322 - val_loss: 0.3505 - val_correct_positive_diagnoses: 0.1550\n",
      "Epoch 5/5\n",
      "625/625 [==============================] - 207s 331ms/step - loss: 0.1542 - correct_positive_diagnoses: 0.8679 - val_loss: 0.3586 - val_correct_positive_diagnoses: 0.1108\n",
      "trying lr=2.503772685504264e-05 reg=0.004079168714195836\n"
     ]
    },
    {
     "name": "stderr",
     "output_type": "stream",
     "text": [
      "/home/013855803/anaconda3/envs/brainenv/lib/python3.7/site-packages/keras_applications/resnet50.py:265: UserWarning: The output shape of `ResNet50(include_top=False)` has been changed since Keras 2.2.0.\n",
      "  warnings.warn('The output shape of `ResNet50(include_top=False)` '\n"
     ]
    },
    {
     "name": "stdout",
     "output_type": "stream",
     "text": [
      "Epoch 1/5\n",
      "624/625 [============================>.] - ETA: 0s - loss: 1.4276 - correct_positive_diagnoses: 0.0444\n",
      "625/625 [==============================] - 238s 381ms/step - loss: 1.4268 - correct_positive_diagnoses: 0.0444 - val_loss: 0.9679 - val_correct_positive_diagnoses: 0.1148\n",
      "Epoch 2/5\n",
      "\n",
      "625/625 [==============================] - 209s 335ms/step - loss: 0.7308 - correct_positive_diagnoses: 0.3003 - val_loss: 0.6347 - val_correct_positive_diagnoses: 0.1275\n",
      "Epoch 3/5\n",
      "625/625 [==============================] - 213s 342ms/step - loss: 0.4376 - correct_positive_diagnoses: 0.6638 - val_loss: 0.5041 - val_correct_positive_diagnoses: 0.1315\n",
      "Epoch 4/5\n",
      "625/625 [==============================] - 208s 333ms/step - loss: 0.2883 - correct_positive_diagnoses: 0.7734 - val_loss: 0.4412 - val_correct_positive_diagnoses: 0.0997\n",
      "Epoch 5/5\n",
      "624/625 [============================>.] - ETA: 0s - loss: 0.1994 - correct_positive_diagnoses: 0.8170Epoch 5/5\n",
      "625/625 [==============================] - 208s 333ms/step - loss: 0.1994 - correct_positive_diagnoses: 0.8157 - val_loss: 0.3594 - val_correct_positive_diagnoses: 0.1251\n",
      "trying lr=1.435461590612734e-05 reg=0.001948629446151125\n"
     ]
    },
    {
     "name": "stderr",
     "output_type": "stream",
     "text": [
      "/home/013855803/anaconda3/envs/brainenv/lib/python3.7/site-packages/keras_applications/resnet50.py:265: UserWarning: The output shape of `ResNet50(include_top=False)` has been changed since Keras 2.2.0.\n",
      "  warnings.warn('The output shape of `ResNet50(include_top=False)` '\n"
     ]
    },
    {
     "name": "stdout",
     "output_type": "stream",
     "text": [
      "Epoch 1/5\n",
      "624/625 [============================>.] - ETA: 0s - loss: 0.9902 - correct_positive_diagnoses: 0.0318\n",
      "625/625 [==============================] - 250s 399ms/step - loss: 0.9898 - correct_positive_diagnoses: 0.0317 - val_loss: 0.8305 - val_correct_positive_diagnoses: 0.0780\n",
      "Epoch 2/5\n",
      "\n",
      "625/625 [==============================] - 210s 336ms/step - loss: 0.6904 - correct_positive_diagnoses: 0.3687 - val_loss: 0.7160 - val_correct_positive_diagnoses: 0.0839\n",
      "Epoch 3/5\n",
      "625/625 [==============================] - 211s 337ms/step - loss: 0.5224 - correct_positive_diagnoses: 0.7580 - val_loss: 0.6298 - val_correct_positive_diagnoses: 0.1029\n",
      "Epoch 4/5\n",
      "625/625 [==============================] - 209s 335ms/step - loss: 0.4145 - correct_positive_diagnoses: 0.8763 - val_loss: 0.5551 - val_correct_positive_diagnoses: 0.1352\n",
      "Epoch 5/5\n",
      "625/625 [==============================] - 209s 335ms/step - loss: 0.3303 - correct_positive_diagnoses: 0.8900 - val_loss: 0.4902 - val_correct_positive_diagnoses: 0.0857\n",
      "trying lr=4.7989844690594676e-05 reg=0.004083537209294783\n"
     ]
    },
    {
     "name": "stderr",
     "output_type": "stream",
     "text": [
      "/home/013855803/anaconda3/envs/brainenv/lib/python3.7/site-packages/keras_applications/resnet50.py:265: UserWarning: The output shape of `ResNet50(include_top=False)` has been changed since Keras 2.2.0.\n",
      "  warnings.warn('The output shape of `ResNet50(include_top=False)` '\n"
     ]
    },
    {
     "name": "stdout",
     "output_type": "stream",
     "text": [
      "Epoch 1/5\n",
      "625/625 [==============================] - 251s 401ms/step - loss: 1.1497 - correct_positive_diagnoses: 0.0527 - val_loss: 0.6725 - val_correct_positive_diagnoses: 0.0733\n",
      "Epoch 2/5\n",
      "\n",
      "625/625 [==============================] - 211s 338ms/step - loss: 0.4589 - correct_positive_diagnoses: 0.2673 - val_loss: 0.4118 - val_correct_positive_diagnoses: 0.0997\n",
      "Epoch 3/5\n",
      "625/625 [==============================] - 210s 336ms/step - loss: 0.2409 - correct_positive_diagnoses: 0.5495 - val_loss: 0.3124 - val_correct_positive_diagnoses: 0.2011\n",
      "Epoch 4/5\n",
      "625/625 [==============================] - 212s 339ms/step - loss: 0.1447 - correct_positive_diagnoses: 0.6995 - val_loss: 0.2672 - val_correct_positive_diagnoses: 0.1738\n",
      "Epoch 5/5\n",
      "625/625 [==============================] - 211s 338ms/step - loss: 0.0976 - correct_positive_diagnoses: 0.7546 - val_loss: 0.2345 - val_correct_positive_diagnoses: 0.1685\n",
      "trying lr=2.571326377301457e-05 reg=0.002790310943548472\n"
     ]
    },
    {
     "name": "stderr",
     "output_type": "stream",
     "text": [
      "/home/013855803/anaconda3/envs/brainenv/lib/python3.7/site-packages/keras_applications/resnet50.py:265: UserWarning: The output shape of `ResNet50(include_top=False)` has been changed since Keras 2.2.0.\n",
      "  warnings.warn('The output shape of `ResNet50(include_top=False)` '\n"
     ]
    },
    {
     "name": "stdout",
     "output_type": "stream",
     "text": [
      "Epoch 1/5\n",
      "624/625 [============================>.] - ETA: 0s - loss: 1.1046 - correct_positive_diagnoses: 0.0428\n",
      "625/625 [==============================] - 253s 404ms/step - loss: 1.1041 - correct_positive_diagnoses: 0.0438 - val_loss: 0.8155 - val_correct_positive_diagnoses: 0.0817\n",
      "Epoch 2/5\n",
      "\n",
      "625/625 [==============================] - 215s 345ms/step - loss: 0.6215 - correct_positive_diagnoses: 0.2968 - val_loss: 0.5722 - val_correct_positive_diagnoses: 0.1413\n",
      "Epoch 3/5\n",
      "625/625 [==============================] - 218s 349ms/step - loss: 0.3915 - correct_positive_diagnoses: 0.6550 - val_loss: 0.4699 - val_correct_positive_diagnoses: 0.1085\n",
      "Epoch 4/5\n",
      "Epoch 3/5\n",
      "625/625 [==============================] - 214s 343ms/step - loss: 0.2668 - correct_positive_diagnoses: 0.8124 - val_loss: 0.4249 - val_correct_positive_diagnoses: 0.1050\n",
      "Epoch 5/5\n",
      "625/625 [==============================] - 214s 342ms/step - loss: 0.1883 - correct_positive_diagnoses: 0.8409 - val_loss: 0.3741 - val_correct_positive_diagnoses: 0.2045\n",
      "trying lr=1.7865659741423845e-05 reg=0.005871046171009938\n"
     ]
    },
    {
     "name": "stderr",
     "output_type": "stream",
     "text": [
      "/home/013855803/anaconda3/envs/brainenv/lib/python3.7/site-packages/keras_applications/resnet50.py:265: UserWarning: The output shape of `ResNet50(include_top=False)` has been changed since Keras 2.2.0.\n",
      "  warnings.warn('The output shape of `ResNet50(include_top=False)` '\n"
     ]
    },
    {
     "name": "stdout",
     "output_type": "stream",
     "text": [
      "Epoch 1/5\n",
      "624/625 [============================>.] - ETA: 0s - loss: 2.1224 - correct_positive_diagnoses: 0.0266\n",
      "625/625 [==============================] - 261s 417ms/step - loss: 2.1214 - correct_positive_diagnoses: 0.0265 - val_loss: 1.4517 - val_correct_positive_diagnoses: 0.0495\n",
      "Epoch 2/5\n",
      "\n",
      "139/625 [=====>........................] - ETA: 2:49 - loss: 1.3216 - correct_positive_diagnoses: 0.2832"
     ]
    }
   ],
   "source": [
    "import keras\n",
    "#from keras.applications.vgg16 import VGG16\n",
    "from keras.applications import ResNet50\n",
    "from keras import layers\n",
    "import numpy as np\n",
    "\n",
    "#conv_base = VGG16(weights=None, input_shape=INPUT_SHAPE ,include_top=False)\n",
    "#conv_base.load_weights('vgg16_weights_tf_dim_ordering_tf_kernels_notop.h5') #doesn't work otherwise without internet access\n",
    "\n",
    "models = []\n",
    "histories = []\n",
    "hyper = {'lr': np.random.uniform(5e-5,1e-6,66),\n",
    "         'reg': np.random.uniform(1e-2,1e-6,66)}\n",
    "\n",
    "for i in range(100):\n",
    "    lr = hyper['lr'][i]\n",
    "    reg = hyper['reg'][i]\n",
    "    \n",
    "    print(f'trying lr={lr} reg={reg}')\n",
    "    \n",
    "    conv_base = ResNet50(include_top=False, weights='imagenet', input_shape=INPUT_SHAPE)\n",
    "    conv_base.trainable = True\n",
    "    model = keras.models.Sequential()\n",
    "    model.add(conv_base)\n",
    "    model.add(layers.Flatten())\n",
    "    model.add(layers.Dense(256, activation='relu', kernel_regularizer=keras.regularizers.l2(reg)))\n",
    "    model.add(layers.Dense(6, activation='sigmoid', kernel_regularizer=keras.regularizers.l2(reg)))\n",
    "    \n",
    "    model.name = f'ResNet50-10k-lr={lr}'\n",
    "    \n",
    "    model.compile(\n",
    "        loss='binary_crossentropy',\n",
    "        optimizer=keras.optimizers.Adam(lr=lr),\n",
    "        metrics=[correct_positive_diagnoses],\n",
    "        )\n",
    "    \n",
    "    hist = model.fit_generator(traingen,\n",
    "                    validation_data = validgen,\n",
    "                    epochs=5,\n",
    "                    verbose=True,\n",
    "                    use_multiprocessing=True,\n",
    "                    workers=4,\n",
    "                    callbacks=[])\n",
    "    \n",
    "    histories.append(hist)\n",
    "    models.append(model)"
   ]
  },
  {
   "cell_type": "code",
   "execution_count": null,
   "metadata": {},
   "outputs": [],
   "source": [
    "!ls"
   ]
  },
  {
   "cell_type": "code",
   "execution_count": null,
   "metadata": {},
   "outputs": [],
   "source": [
    "%matplotlib inline\n",
    "import matplotlib.pyplot as plt\n",
    "plt.figure(figsize=(20,10))\n",
    "plt.ylabel('loss')\n",
    "plt.xlabel('epoch')\n",
    "handles = []\n",
    "for i in range(len(histories)):\n",
    "    ax, = plt.plot(histories[i].history['loss'], label=f'lr={round(LEARNING_RATES[i],7)}')\n",
    "    handles.append(ax)\n",
    "    \n",
    "plt.legend(handles=handles,loc='best')\n",
    "plt.show()"
   ]
  },
  {
   "cell_type": "code",
   "execution_count": null,
   "metadata": {},
   "outputs": [],
   "source": [
    "%matplotlib inline\n",
    "import matplotlib.pyplot as plt\n",
    "plt.figure(figsize=(20,10))\n",
    "plt.ylabel('validation loss')\n",
    "plt.xlabel('epoch')\n",
    "handles = []\n",
    "for i in range(len(histories)):\n",
    "    ax, = plt.plot(histories[i].history['val_loss'], label=f'lr={round(LEARNING_RATES[i],7)}')\n",
    "    handles.append(ax)\n",
    "    \n",
    "plt.legend(handles=handles)\n",
    "plt.show()"
   ]
  },
  {
   "cell_type": "code",
   "execution_count": null,
   "metadata": {},
   "outputs": [],
   "source": [
    "histories[i].history.keys()"
   ]
  },
  {
   "cell_type": "code",
   "execution_count": null,
   "metadata": {},
   "outputs": [],
   "source": [
    "%matplotlib inline\n",
    "import matplotlib.pyplot as plt\n",
    "plt.figure(figsize=(20,10))\n",
    "plt.ylabel('CPD')\n",
    "plt.xlabel('epoch')\n",
    "handles = []\n",
    "for i in range(len(histories)):\n",
    "    ax, = plt.plot(histories[i].history['correct_positive_diagnoses'], label=f'lr={round(LEARNING_RATES[i],7)}')\n",
    "    handles.append(ax)\n",
    "    \n",
    "plt.legend(handles=handles)\n",
    "plt.show()"
   ]
  },
  {
   "cell_type": "markdown",
   "metadata": {},
   "source": [
    "# Conclusion\n",
    "Looks like 1e-5 is th"
   ]
  }
 ],
 "metadata": {
  "kernelspec": {
   "display_name": "brainenv",
   "language": "python",
   "name": "py3"
  },
  "language_info": {
   "codemirror_mode": {
    "name": "ipython",
    "version": 3
   },
   "file_extension": ".py",
   "mimetype": "text/x-python",
   "name": "python",
   "nbconvert_exporter": "python",
   "pygments_lexer": "ipython3",
   "version": "3.7.5"
  }
 },
 "nbformat": 4,
 "nbformat_minor": 1
}
