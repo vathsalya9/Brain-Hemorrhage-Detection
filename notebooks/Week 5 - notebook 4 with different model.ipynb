{
 "cells": [
  {
   "cell_type": "code",
   "execution_count": 16,
   "metadata": {
    "_cell_guid": "0a8875a4-f443-4dbc-91d8-5f05a965cbc6",
    "_uuid": "01df29fe-30d5-417e-87b6-485853f5b584"
   },
   "outputs": [
    {
     "name": "stdout",
     "output_type": "stream",
     "text": [
      "stage_2_sample_submission.csv  stage_2_test  stage_2_train  stage_2_train.csv\r\n"
     ]
    }
   ],
   "source": [
    "import os\n",
    "import pandas as pd\n",
    "\n",
    "DATA_DIR = '../input/rsna-intracranial-hemorrhage-detection/rsna-intracranial-hemorrhage-detection/'\n",
    "!ls $DATA_DIR\n",
    "INPUT_SHAPE = (224, 224, 3)"
   ]
  },
  {
   "cell_type": "code",
   "execution_count": 17,
   "metadata": {
    "_cell_guid": "f060f1c2-06de-44c6-ba27-47b9c914ea6a",
    "_uuid": "b4f1e989-3e65-441d-9b38-10baff9f1fda"
   },
   "outputs": [],
   "source": [
    "# dcm processing\n",
    "import pydicom\n",
    "from skimage import exposure\n",
    "\n",
    "def correct_dcm(dcm):\n",
    "    x = dcm.pixel_array + 1000\n",
    "    px_mode = 4096\n",
    "    x[x>=px_mode] = x[x>=px_mode] - px_mode\n",
    "    dcm.PixelData = x.tobytes()\n",
    "    dcm.RescaleIntercept = -1000\n",
    "\n",
    "def window_image(dcm, window_center, window_width):\n",
    "    \n",
    "    if (dcm.BitsStored == 12) and (dcm.PixelRepresentation == 0) and (int(dcm.RescaleIntercept) > -100):\n",
    "        correct_dcm(dcm)\n",
    "    \n",
    "    img = dcm.pixel_array * dcm.RescaleSlope + dcm.RescaleIntercept\n",
    "    img_min = window_center - window_width // 2\n",
    "    img_max = window_center + window_width // 2\n",
    "    img = np.clip(img, img_min, img_max)\n",
    "\n",
    "    return img\n",
    "\n",
    "def bsb_window(dcm):\n",
    "    brain_img = window_image(dcm, 40, 80)\n",
    "    subdural_img = window_image(dcm, 80, 200)\n",
    "    soft_img = window_image(dcm, 40, 380)\n",
    "    \n",
    "    brain_img = (brain_img - 0) / 80\n",
    "    subdural_img = (subdural_img - (-20)) / 200\n",
    "    soft_img = (soft_img - (-150)) / 380\n",
    "    bsb_img = np.array([brain_img, subdural_img, soft_img]).transpose(1,2,0)\n",
    "\n",
    "    return bsb_img\n",
    "\n",
    "\n",
    "def read_trainset(filename=DATA_DIR+\"stage_2_train.csv\"):\n",
    "    df = pd.read_csv(filename)\n",
    "    df[\"Image\"] = df[\"ID\"].str.slice(stop=12)\n",
    "    df[\"Diagnosis\"] = df[\"ID\"].str.slice(start=13)\n",
    "    \n",
    "    duplicates_to_remove = [\n",
    "        56346,56347,56348,56349,\n",
    "        56350,56351,1171830,1171831,\n",
    "        1171832,1171833,1171834,1171835,\n",
    "        3705312,3705313,3705314,3705315,\n",
    "        3705316,3705317,3842478,3842479,\n",
    "        3842480,3842481,3842482,3842483\n",
    "    ]\n",
    "    \n",
    "    df = df.drop(index=duplicates_to_remove)\n",
    "    df = df.reset_index(drop=True)\n",
    "    \n",
    "    df = df.loc[:, [\"Label\", \"Diagnosis\", \"Image\"]]\n",
    "    df = df.set_index(['Image', 'Diagnosis']).unstack(level=-1)\n",
    "    \n",
    "    return df"
   ]
  },
  {
   "cell_type": "code",
   "execution_count": 18,
   "metadata": {
    "_cell_guid": "25af4d67-1001-4838-9201-95a291fde21a",
    "_uuid": "43e7aaca-abdc-466a-bdb3-4ff01a1de6bb"
   },
   "outputs": [],
   "source": [
    "import keras\n",
    "import cv2\n",
    "from math import ceil\n",
    "import numpy as np\n",
    "import pydicom\n",
    "\n",
    "np.random.seed(257)\n",
    "\n",
    "def _read(path, desired_size):\n",
    "    \"\"\"Will be used in DataGenerator\"\"\"\n",
    "    \n",
    "    dcm = pydicom.dcmread(path)\n",
    "    \n",
    "    try:\n",
    "        img = bsb_window(dcm)\n",
    "        img = cv2.resize(img, desired_size[:2], interpolation=cv2.INTER_LINEAR)\n",
    "        \n",
    "    # Some dcms seem to be corrupted\n",
    "    except ValueError:\n",
    "        print('Error while parsing {}'.format(path))\n",
    "        img = np.ones(desired_size)\n",
    "    \n",
    "    return img\n",
    "\n",
    "class DataGenerator(keras.utils.Sequence):\n",
    "\n",
    "    def __init__(self, img_dir, image_IDs, labels_df, batch_size, img_size):\n",
    "\n",
    "        self.image_IDs = image_IDs\n",
    "        self.labels_df = labels_df\n",
    "        self.batch_size = batch_size\n",
    "        self.img_size = img_size\n",
    "        self.img_dir = img_dir\n",
    "\n",
    "    def __len__(self):\n",
    "        return int(ceil(len(self.image_IDs) / self.batch_size))\n",
    "\n",
    "    def __getitem__(self, index):\n",
    "        \n",
    "        batch_ids = self.image_IDs[index*self.batch_size:(index+1)*self.batch_size]\n",
    "        \n",
    "        X = np.empty((self.batch_size, *self.img_size))\n",
    "        Y = np.empty((self.batch_size, 6))\n",
    "        \n",
    "        for i, ID in enumerate(batch_ids):\n",
    "            X[i,] = _read(self.img_dir+ID+\".dcm\", self.img_size)\n",
    "            Y[i,] = self.labels_df.loc[ID].values\n",
    "        \n",
    "        return X, Y"
   ]
  },
  {
   "cell_type": "code",
   "execution_count": 19,
   "metadata": {
    "_cell_guid": "47e62989-0e2c-44de-9221-add9338cd172",
    "_uuid": "eac2b113-676e-4f0f-a52f-b9493f094033"
   },
   "outputs": [],
   "source": [
    "from sklearn.model_selection import ShuffleSplit \n",
    "\n",
    "train_df = read_trainset()\n",
    "\n",
    "# k-fold splitting\n",
    "ss = ShuffleSplit(n_splits=10, test_size=0.1, random_state=257).split(train_df.index)\n",
    "# get indeces for one split\n",
    "train_idx, valid_idx = next(ss)\n",
    "train_df_kfold = train_df.iloc[train_idx]\n",
    "valid_df_kfold = train_df.iloc[valid_idx]\n",
    "\n",
    "\n",
    "traingen = DataGenerator(img_dir=DATA_DIR+'stage_2_train/',\n",
    "                         image_IDs=train_df_kfold.index[:10000], #MAGIC\n",
    "                         labels_df=train_df_kfold[:10000], #MAGIC\n",
    "                         batch_size=16,\n",
    "                         img_size=INPUT_SHAPE)\n",
    "\n",
    "validgen = DataGenerator(img_dir=DATA_DIR+'stage_2_train/',\n",
    "                         image_IDs=valid_df_kfold.index[:1000], #MAGIC\n",
    "                         labels_df=valid_df_kfold[:1000], #MAGIC\n",
    "                         batch_size=16,\n",
    "                         img_size=INPUT_SHAPE)"
   ]
  },
  {
   "cell_type": "code",
   "execution_count": 20,
   "metadata": {
    "_cell_guid": "0eeb99c6-4ffd-42aa-914a-133034aad3e4",
    "_uuid": "8ce7ac10-cb79-45da-a10c-60c6d3549dde"
   },
   "outputs": [],
   "source": [
    "# custom loss function\n",
    "from keras import backend as K\n",
    "\n",
    "def weighted_log_loss(y_true, y_pred):\n",
    "    \"\"\"\n",
    "    Can be used as the loss function in model.compile()\n",
    "    ---------------------------------------------------\n",
    "    \"\"\"\n",
    "    \n",
    "    class_weights = np.array([2., 1., 1., 1., 1., 1.])\n",
    "    \n",
    "    eps = K.epsilon()\n",
    "    \n",
    "    y_pred = K.clip(y_pred, eps, 1.0-eps)\n",
    "\n",
    "    out = -(         y_true  * K.log(      y_pred) * class_weights\n",
    "            + (1.0 - y_true) * K.log(1.0 - y_pred) * class_weights)\n",
    "    \n",
    "    return K.mean(out, axis=-1)\n",
    "\n",
    "# custom performance metric\n",
    "def correct_diagnoses(y_true, y_pred):\n",
    "    THRESHOLD = 0.5\n",
    "    p_thr = K.greater(y_pred, THRESHOLD)\n",
    "    y_true = K.cast(y_true, dtype='bool')\n",
    "    \n",
    "    equals_t = K.equal(p_thr, y_true)\n",
    "    correct_rows = K.all(equals_t, axis=1)\n",
    "    correct_rows_int = K.cast(correct_rows, dtype='int32')\n",
    "    \n",
    "    return K.sum(correct_rows_int)/K.shape(correct_rows_int)[0]\n",
    "\n",
    "def correct_positive_diagnoses(y_true, y_pred):\n",
    "    THRESHOLD = 0.5\n",
    "    p_thr = K.greater(y_pred, THRESHOLD)\n",
    "    y_true = K.cast(y_true, dtype='bool')\n",
    "    \n",
    "    pos_mask = K.any(y_true, axis=1) #patients with positive diagnoses\n",
    "    p_thr = p_thr[pos_mask]\n",
    "    y_true = y_true[pos_mask]\n",
    "    \n",
    "    equals_t = K.equal(p_thr, y_true)\n",
    "    correct_rows = K.all(equals_t, axis=1)\n",
    "    correct_rows_float = K.cast(correct_rows, dtype='float32')\n",
    "    \n",
    "    return K.sum(correct_rows_float)/(K.cast(K.shape(correct_rows_float)[0], dtype='float32')+K.epsilon())\n",
    "\n",
    "def np_cpd(y_true, pred, thr=0.5): #numpy implementation of correct positive diagnoses\n",
    "    p_thr = pred > thr\n",
    "\n",
    "    pos_mask = np.any(y_true, axis=1)\n",
    "\n",
    "    p_thr = p_thr[pos_mask]\n",
    "    y_true = y_true[pos_mask]\n",
    "\n",
    "    p_correct = np.all(p_thr[:len(y_true)] == y_true[:len(p_thr)], axis=1)\n",
    "\n",
    "    return np.sum(p_correct)/(len(p_thr)+1e-15)"
   ]
  },
  {
   "cell_type": "code",
   "execution_count": 21,
   "metadata": {
    "_cell_guid": "514c5c6d-0bee-4424-82d7-b4c3a85eecdc",
    "_uuid": "810a2af8-bf62-4233-824e-7e97872a165d"
   },
   "outputs": [
    {
     "name": "stdout",
     "output_type": "stream",
     "text": [
      "Model: \"sequential_4\"\n",
      "_________________________________________________________________\n",
      "Layer (type)                 Output Shape              Param #   \n",
      "=================================================================\n",
      "xception (Model)             (None, 2048)              20861480  \n",
      "_________________________________________________________________\n",
      "dense_3 (Dense)              (None, 256)               524544    \n",
      "_________________________________________________________________\n",
      "dense_4 (Dense)              (None, 6)                 1542      \n",
      "=================================================================\n",
      "Total params: 21,387,566\n",
      "Trainable params: 526,086\n",
      "Non-trainable params: 20,861,480\n",
      "_________________________________________________________________\n"
     ]
    }
   ],
   "source": [
    "import keras\n",
    "from keras.applications.xception import Xception\n",
    "from keras import layers\n",
    "import numpy as np\n",
    "\n",
    "conv_base = Xception(include_top=False, weights='imagenet', input_tensor=None, input_shape=INPUT_SHAPE, pooling='avg', classes=1000)\n",
    "\n",
    "conv_base.trainable = False\n",
    "model = keras.models.Sequential()\n",
    "model.add(conv_base)\n",
    "#model.add(layers.Flatten())\n",
    "model.add(layers.Dense(256, activation='relu'))\n",
    "model.add(layers.Dense(6, activation='sigmoid'))\n",
    "\n",
    "model.compile(\n",
    "    loss=weighted_log_loss, #custom loss\n",
    "    #loss='binary_crossentropy',\n",
    "    #loss='categorical_crossentropy', # mutually exclusive\n",
    "    optimizer=keras.optimizers.Adam(lr=1e-3),\n",
    "    metrics=[correct_positive_diagnoses])\n",
    "\n",
    "model.summary()"
   ]
  },
  {
   "cell_type": "code",
   "execution_count": 22,
   "metadata": {
    "_cell_guid": "bd8bae97-9afa-4cde-ae70-f44e395de195",
    "_uuid": "4d116807-e374-4b97-808c-7358af11ee69"
   },
   "outputs": [
    {
     "name": "stdout",
     "output_type": "stream",
     "text": [
      "Epoch 1/5\n",
      "625/625 [==============================] - 163s 260ms/step - loss: 0.2482 - correct_positive_diagnoses: 0.0089\n",
      "Epoch 2/5\n",
      "Epoch 1/5\n",
      "625/625 [==============================] - 154s 246ms/step - loss: 0.2118 - correct_positive_diagnoses: 0.0340\n",
      "Epoch 3/5\n",
      "625/625 [==============================] - 154s 247ms/step - loss: 0.1975 - correct_positive_diagnoses: 0.0460\n",
      "Epoch 4/5\n",
      "625/625 [==============================] - 148s 237ms/step - loss: 0.1880 - correct_positive_diagnoses: 0.0625\n",
      "Epoch 5/5\n",
      "625/625 [==============================] - 153s 244ms/step - loss: 0.1780 - correct_positive_diagnoses: 0.0731\n"
     ]
    }
   ],
   "source": [
    "hist = model.fit_generator(traingen,\n",
    "                    epochs=5,\n",
    "                    verbose=True,\n",
    "                    use_multiprocessing=True,\n",
    "                    workers=4)"
   ]
  },
  {
   "cell_type": "code",
   "execution_count": 23,
   "metadata": {
    "_cell_guid": "4cad90e6-379e-4a00-85bc-36ab26ea7000",
    "_uuid": "ec3cd148-cfc5-4541-ada3-f1b941a94188"
   },
   "outputs": [],
   "source": [
    "p = model.predict_generator(validgen)"
   ]
  },
  {
   "cell_type": "code",
   "execution_count": 24,
   "metadata": {
    "_cell_guid": "bbe768af-05e5-4a8d-8077-3feaa21d9c1e",
    "_uuid": "d4ae3474-6ff5-4356-a452-dd640da6becc"
   },
   "outputs": [
    {
     "ename": "IndexError",
     "evalue": "boolean index did not match indexed array along dimension 0; dimension is 1008 but corresponding boolean dimension is 75281",
     "output_type": "error",
     "traceback": [
      "\u001b[0;31m---------------------------------------------------------------------------\u001b[0m",
      "\u001b[0;31mIndexError\u001b[0m                                Traceback (most recent call last)",
      "\u001b[0;32m<ipython-input-24-c3e5d95e3b9a>\u001b[0m in \u001b[0;36m<module>\u001b[0;34m\u001b[0m\n\u001b[0;32m----> 1\u001b[0;31m \u001b[0mnp_cpd\u001b[0m\u001b[0;34m(\u001b[0m\u001b[0mvalid_df_kfold\u001b[0m\u001b[0;34m.\u001b[0m\u001b[0mto_numpy\u001b[0m\u001b[0;34m(\u001b[0m\u001b[0;34m)\u001b[0m\u001b[0;34m,\u001b[0m \u001b[0mp\u001b[0m\u001b[0;34m)\u001b[0m \u001b[0;31m# train accuracy\u001b[0m\u001b[0;34m\u001b[0m\u001b[0m\n\u001b[0m",
      "\u001b[0;32m<ipython-input-20-cecf32983014>\u001b[0m in \u001b[0;36mnp_cpd\u001b[0;34m(y_true, pred, thr)\u001b[0m\n\u001b[1;32m     51\u001b[0m     \u001b[0mpos_mask\u001b[0m \u001b[0;34m=\u001b[0m \u001b[0mnp\u001b[0m\u001b[0;34m.\u001b[0m\u001b[0many\u001b[0m\u001b[0;34m(\u001b[0m\u001b[0my_true\u001b[0m\u001b[0;34m,\u001b[0m \u001b[0maxis\u001b[0m\u001b[0;34m=\u001b[0m\u001b[0;36m1\u001b[0m\u001b[0;34m)\u001b[0m\u001b[0;34m\u001b[0m\u001b[0m\n\u001b[1;32m     52\u001b[0m \u001b[0;34m\u001b[0m\u001b[0m\n\u001b[0;32m---> 53\u001b[0;31m     \u001b[0mp_thr\u001b[0m \u001b[0;34m=\u001b[0m \u001b[0mp_thr\u001b[0m\u001b[0;34m[\u001b[0m\u001b[0mpos_mask\u001b[0m\u001b[0;34m]\u001b[0m\u001b[0;34m\u001b[0m\u001b[0m\n\u001b[0m\u001b[1;32m     54\u001b[0m     \u001b[0my_true\u001b[0m \u001b[0;34m=\u001b[0m \u001b[0my_true\u001b[0m\u001b[0;34m[\u001b[0m\u001b[0mpos_mask\u001b[0m\u001b[0;34m]\u001b[0m\u001b[0;34m\u001b[0m\u001b[0m\n\u001b[1;32m     55\u001b[0m \u001b[0;34m\u001b[0m\u001b[0m\n",
      "\u001b[0;31mIndexError\u001b[0m: boolean index did not match indexed array along dimension 0; dimension is 1008 but corresponding boolean dimension is 75281"
     ]
    }
   ],
   "source": [
    "np_cpd(valid_df_kfold.to_numpy(), p) # train accuracy"
   ]
  },
  {
   "cell_type": "code",
   "execution_count": 25,
   "metadata": {
    "_cell_guid": "a0bdb84d-70eb-4552-beea-500ea81bedc5",
    "_uuid": "01a86e0f-c395-4ea7-be15-cc3f0fddc0e5"
   },
   "outputs": [
    {
     "data": {
      "text/plain": [
       "<matplotlib.image.AxesImage at 0x7f51b265f5c0>"
      ]
     },
     "execution_count": 25,
     "metadata": {},
     "output_type": "execute_result"
    },
    {
     "data": {
      "image/png": "[encoded data removed]",
      "text/plain": [
       "<Figure size 432x288 with 1 Axes>"
      ]
     },
     "metadata": {
      "needs_background": "light"
     },
     "output_type": "display_data"
    }
   ],
   "source": [
    "import matplotlib.pyplot as plt\n",
    "x,y = traingen[0]\n",
    "plt.imshow(x[-1])"
   ]
  },
  {
   "cell_type": "markdown",
   "metadata": {},
   "source": [
    "**Conclusion**\n",
    "\n",
    "Low loss but also low number of correct diagnosis. Run with different initial weights or more epochs"
   ]
  }
 ],
 "metadata": {
  "kernelspec": {
   "display_name": "Python 3",
   "language": "python",
   "name": "python3"
  },
  "language_info": {
   "codemirror_mode": {
    "name": "ipython",
    "version": 3
   },
   "file_extension": ".py",
   "mimetype": "text/x-python",
   "name": "python",
   "nbconvert_exporter": "python",
   "pygments_lexer": "ipython3",
   "version": "3.6.8"
  }
 },
 "nbformat": 4,
 "nbformat_minor": 1
}
